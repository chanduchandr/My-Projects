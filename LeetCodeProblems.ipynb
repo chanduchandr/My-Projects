{
 "cells": [
  {
   "cell_type": "code",
   "execution_count": 1,
   "id": "10b8f18b",
   "metadata": {},
   "outputs": [
    {
     "name": "stdout",
     "output_type": "stream",
     "text": [
      "1337\n"
     ]
    }
   ],
   "source": [
    "import re\n",
    "class Solution:\n",
    "    def myAtoi(self, s: str) -> int:\n",
    "        s = s.strip()\n",
    "        if not s:\n",
    "            return 0\n",
    "        \n",
    "        match = re.match(r'^[+-]?\\d+', s)\n",
    "        if not match:\n",
    "            return 0\n",
    "        \n",
    "        num = int(match.group())\n",
    "        \n",
    "        INT_MIN, INT_MAX = -2**31, 2**31 - 1\n",
    "        return max(min(num, INT_MAX), INT_MIN)\n",
    "\n",
    "s = Solution()\n",
    "print(s.myAtoi(\"1337c0d3\"))"
   ]
  },
  {
   "cell_type": "code",
   "execution_count": null,
   "id": "44bfe621",
   "metadata": {},
   "outputs": [],
   "source": []
  }
 ],
 "metadata": {
  "kernelspec": {
   "display_name": "base",
   "language": "python",
   "name": "python3"
  },
  "language_info": {
   "codemirror_mode": {
    "name": "ipython",
    "version": 3
   },
   "file_extension": ".py",
   "mimetype": "text/x-python",
   "name": "python",
   "nbconvert_exporter": "python",
   "pygments_lexer": "ipython3",
   "version": "3.12.4"
  }
 },
 "nbformat": 4,
 "nbformat_minor": 5
}
