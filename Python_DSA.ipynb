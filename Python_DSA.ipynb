{
 "cells": [
  {
   "cell_type": "code",
   "execution_count": 2,
   "id": "15a5440c",
   "metadata": {},
   "outputs": [
    {
     "name": "stdout",
     "output_type": "stream",
     "text": [
      "Element found at index 3\n"
     ]
    }
   ],
   "source": [
    "# linear search\n",
    "nums = [4, 2, 3, 1, 5]\n",
    "target = 1\n",
    "for i in range(len(nums)):\n",
    "    if nums[i] == target:\n",
    "        print(f\"Element found at index {i}\")\n",
    "        break"
   ]
  },
  {
   "cell_type": "code",
   "execution_count": 4,
   "id": "8f0ab0e7",
   "metadata": {},
   "outputs": [
    {
     "name": "stdout",
     "output_type": "stream",
     "text": [
      "{1: 3, 2: 2, 3: 1, 4: 1, 5: 4}\n"
     ]
    }
   ],
   "source": [
    "# Hash map\n",
    "nums = [1,1,1,2,2,3,4,5,5,5,5]\n",
    "count_map = {}\n",
    "for num in nums:\n",
    "    count_map[num] = count_map.get(num, 0) + 1\n",
    "print(count_map)"
   ]
  },
  {
   "cell_type": "code",
   "execution_count": 8,
   "id": "1dc4f735",
   "metadata": {},
   "outputs": [
    {
     "name": "stdout",
     "output_type": "stream",
     "text": [
      "[1, 2, 3, 4, 6, 7, 8, 9, 10]\n"
     ]
    }
   ],
   "source": [
    "# merge 2 sorted arrays\n",
    "nums1 = [1,1,1,2,4,6,7]\n",
    "nums2 = [1,2,3,6,7,8,9,10]\n",
    "merged = nums1 + nums2\n",
    "hash_map = {}\n",
    "for i in merged:\n",
    "    hash_map[i] = hash_map.get(i,0) + 1\n",
    "result = list(hash_map.keys())\n",
    "result.sort()\n",
    "print(result)"
   ]
  },
  {
   "cell_type": "code",
   "execution_count": 9,
   "id": "d33dda42",
   "metadata": {},
   "outputs": [
    {
     "name": "stdout",
     "output_type": "stream",
     "text": [
      "[1, 2, 3, 4, 6, 7, 8, 9, 10]\n"
     ]
    }
   ],
   "source": [
    "# Method 2: Two-pointer technique\n",
    "def merge_sorted_unique(nums1, nums2):\n",
    "    i = j = 0\n",
    "    result = []\n",
    "\n",
    "    while i < len(nums1) and j < len(nums2):\n",
    "        if nums1[i] < nums2[j]:\n",
    "            if not result or result[-1] != nums1[i]:\n",
    "                result.append(nums1[i])\n",
    "            i += 1\n",
    "        elif nums1[i] > nums2[j]:\n",
    "            if not result or result[-1] != nums2[j]:\n",
    "                result.append(nums2[j])\n",
    "            j += 1\n",
    "        else:  \n",
    "            if not result or result[-1] != nums1[i]:\n",
    "                result.append(nums1[i])\n",
    "            i += 1\n",
    "            j += 1\n",
    "\n",
    "    # Process remaining elements in nums1\n",
    "    while i < len(nums1):\n",
    "        if not result or result[-1] != nums1[i]:\n",
    "            result.append(nums1[i])\n",
    "        i += 1\n",
    "\n",
    "    # Process remaining elements in nums2\n",
    "    while j < len(nums2):\n",
    "        if not result or result[-1] != nums2[j]:\n",
    "            result.append(nums2[j])\n",
    "        j += 1\n",
    "\n",
    "    return result\n",
    "\n",
    "# Example\n",
    "nums1 = [1,1,1,2,4,6,7]\n",
    "nums2 = [1,2,3,6,7,8,9,10]\n",
    "print(merge_sorted_unique(nums1, nums2))\n"
   ]
  },
  {
   "cell_type": "code",
   "execution_count": 2,
   "id": "19a8b2b4",
   "metadata": {},
   "outputs": [],
   "source": [
    "nums = [1,1,0,1,1,1]\n",
    "class Solution:\n",
    "    def findMaxConsecutiveOnes(self, nums: list[int]) -> int:\n",
    "        max_count = 0\n",
    "        current_count = 0\n",
    "        \n",
    "        for num in nums:\n",
    "            if num == 1:\n",
    "                current_count += 1\n",
    "                max_count = max(max_count, current_count)\n",
    "            else:\n",
    "                current_count = 0\n",
    "                \n",
    "        return max_count"
   ]
  },
  {
   "cell_type": "code",
   "execution_count": 4,
   "id": "45f6e592",
   "metadata": {},
   "outputs": [],
   "source": [
    "\n",
    "nums = [-2,1,-3,4,-1,2,1,-5,4]\n",
    "\n",
    "class Solution:\n",
    "    def maxSubArray(self, nums: list[int]) -> int:\n",
    "        max_sum = nums[0]\n",
    "        current_sum = 0\n",
    "        \n",
    "        for num in nums:\n",
    "            current_sum += num\n",
    "            if current_sum > max_sum:\n",
    "                max_sum = current_sum\n",
    "            if current_sum < 0:\n",
    "                current_sum = 0\n",
    "                \n",
    "        return max_sum\n"
   ]
  },
  {
   "cell_type": "code",
   "execution_count": null,
   "id": "a5e61dcf",
   "metadata": {},
   "outputs": [],
   "source": []
  }
 ],
 "metadata": {
  "kernelspec": {
   "display_name": "Python 3",
   "language": "python",
   "name": "python3"
  },
  "language_info": {
   "codemirror_mode": {
    "name": "ipython",
    "version": 3
   },
   "file_extension": ".py",
   "mimetype": "text/x-python",
   "name": "python",
   "nbconvert_exporter": "python",
   "pygments_lexer": "ipython3",
   "version": "3.13.7"
  }
 },
 "nbformat": 4,
 "nbformat_minor": 5
}
