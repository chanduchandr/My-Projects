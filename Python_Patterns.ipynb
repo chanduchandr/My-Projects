{
 "cells": [
  {
   "cell_type": "code",
   "execution_count": null,
   "id": "28af358e",
   "metadata": {},
   "outputs": [
    {
     "name": "stdout",
     "output_type": "stream",
     "text": [
      "\n",
      "* \n",
      "* * \n",
      "* * * \n",
      "* * * * \n",
      "* * * * * \n"
     ]
    }
   ],
   "source": [
    "\n",
    "# Print a right angled triangle pattern using stars. The number of rows is to be taken as input from the user.\n",
    "n = int(input('n: '))\n",
    "for i in range(0, n+1):\n",
    "    for j in range(i):\n",
    "        print('*', end=' ')\n",
    "    print()"
   ]
  },
  {
   "cell_type": "code",
   "execution_count": null,
   "id": "c76c4fa9",
   "metadata": {},
   "outputs": [
    {
     "name": "stdout",
     "output_type": "stream",
     "text": [
      "* * * * * \n",
      "* * * * \n",
      "* * * \n",
      "* * \n",
      "* \n"
     ]
    }
   ],
   "source": [
    "# Print an inverted right angled triangle pattern using stars. The number of rows is to be taken as input from the user.\n",
    "n = int(input('n: '))\n",
    "for i in range(n,0,-1):\n",
    "    for j in range(i):\n",
    "        print('*', end=' ')\n",
    "    print()"
   ]
  },
  {
   "cell_type": "code",
   "execution_count": 38,
   "id": "44e618a6",
   "metadata": {},
   "outputs": [
    {
     "name": "stdout",
     "output_type": "stream",
     "text": [
      "        * \n",
      "      * * * \n",
      "    * * * * * \n",
      "  * * * * * * * \n",
      "* * * * * * * * * \n"
     ]
    }
   ],
   "source": [
    "\n",
    "# Print a pyramid pattern using stars. The number of rows is to be taken as input from the user.\n",
    "n = int(input('n: '))\n",
    "for i in range(1,n+1):\n",
    "    for j in range(n-i):\n",
    "        print(' ', end = ' ')\n",
    "    for k in range(1,2*i):\n",
    "        print('*', end = ' ')\n",
    "    print()"
   ]
  },
  {
   "cell_type": "code",
   "execution_count": 42,
   "id": "2c4fc1ee",
   "metadata": {},
   "outputs": [
    {
     "name": "stdout",
     "output_type": "stream",
     "text": [
      "* * * * * * * * * \n",
      "  * * * * * * * \n",
      "    * * * * * \n",
      "      * * * \n",
      "        * \n"
     ]
    }
   ],
   "source": [
    "#inverted pyramid\n",
    "n = int(input('n: '))\n",
    "for i in range(n,0,-1):\n",
    "    for j in range(n-i):\n",
    "        print(' ', end = ' ')\n",
    "    for k in range(1,2*i):\n",
    "        print('*', end = ' ')\n",
    "    print()"
   ]
  },
  {
   "cell_type": "code",
   "execution_count": null,
   "id": "0b15ac6c",
   "metadata": {},
   "outputs": [
    {
     "name": "stdout",
     "output_type": "stream",
     "text": [
      "        * \n",
      "      * * * \n",
      "    * * * * * \n",
      "  * * * * * * * \n",
      "* * * * * * * * * \n",
      "  * * * * * * * \n",
      "    * * * * * \n",
      "      * * * \n",
      "        * \n"
     ]
    }
   ],
   "source": [
    "# Diamond Pattern\n",
    "\n",
    "n = int(input('n: '))\n",
    "for i in range(1,n+1):\n",
    "    for j in range(n-i):\n",
    "        print(' ', end = ' ')\n",
    "    for k in range(1,2*i):\n",
    "        print('*', end = ' ')\n",
    "    print()\n",
    "for l in range(n-1,0,-1):\n",
    "    for m in range(n-l):\n",
    "        print(' ', end = ' ')\n",
    "    for o in range(1,2*l):\n",
    "        print('*', end = ' ')\n",
    "    print()"
   ]
  },
  {
   "cell_type": "code",
   "execution_count": 48,
   "id": "ab99072a",
   "metadata": {},
   "outputs": [
    {
     "name": "stdout",
     "output_type": "stream",
     "text": [
      "* * * * * * * \n",
      "*           * \n",
      "*           * \n",
      "*           * \n",
      "*           * \n",
      "*           * \n",
      "* * * * * * * \n"
     ]
    }
   ],
   "source": [
    "# Hollow Square Pattern\n",
    "n = int(input('n: '))\n",
    "for i in range(1, n+1):\n",
    "    for j in range(1, n+1):\n",
    "        if i == 1 or i == n or j == 1 or j == n:\n",
    "            print('*', end=' ')\n",
    "        else:\n",
    "            print(' ', end=' ')\n",
    "    print()"
   ]
  },
  {
   "cell_type": "code",
   "execution_count": 52,
   "id": "5670f2c2",
   "metadata": {},
   "outputs": [
    {
     "name": "stdout",
     "output_type": "stream",
     "text": [
      "* \n",
      "* * \n",
      "*   * \n",
      "*     * \n",
      "*       * \n",
      "*         * \n",
      "*           * \n",
      "* * * * * * * * \n"
     ]
    }
   ],
   "source": [
    "# Hollow Right Angled Triangle Pattern\n",
    "\n",
    "n = int(input('n: '))\n",
    "for i in range(1, n+1):\n",
    "    for j in range(1,i+1):\n",
    "        if i ==1 or i == n or j == 1 or j == i:\n",
    "            print('*', end=' ')\n",
    "        else:\n",
    "            print(' ', end=' ')\n",
    "    print()"
   ]
  },
  {
   "cell_type": "code",
   "execution_count": null,
   "id": "c6861839",
   "metadata": {},
   "outputs": [
    {
     "name": "stdout",
     "output_type": "stream",
     "text": [
      "* * * * * * * * * * \n",
      "*               * \n",
      "*             * \n",
      "*           * \n",
      "*         * \n",
      "*       * \n",
      "*     * \n",
      "*   * \n",
      "* * \n",
      "* \n"
     ]
    }
   ],
   "source": [
    "# Hollow Inverted Right Angled Triangle Pattern\n",
    "\n",
    "n = int(input('n: '))\n",
    "for i in range(n, 0, -1):\n",
    "    for j in range(1,i+1):\n",
    "        if i ==1 or i == n or j == 1 or j == i:\n",
    "            print('*', end=' ')\n",
    "        else:\n",
    "            print(' ', end=' ')\n",
    "    print()"
   ]
  },
  {
   "cell_type": "code",
   "execution_count": null,
   "id": "f36baf54",
   "metadata": {},
   "outputs": [
    {
     "name": "stdout",
     "output_type": "stream",
     "text": [
      "        * \n",
      "      *   * \n",
      "    *       * \n",
      "  *           * \n",
      "* * * * * * * * * \n"
     ]
    }
   ],
   "source": [
    "\n",
    "# Hollow Pyramid Patter\n",
    "n = int(input('n: '))\n",
    "for i in range(1, n+1):\n",
    "    for j in range(n-i):\n",
    "        print(' ', end = ' ')\n",
    "    for k in range(1,2*i):\n",
    "        if k == 1 or k == 2*i-1 or i == n:\n",
    "            print('*', end = ' ')\n",
    "        else:\n",
    "            print(' ', end = ' ')\n",
    "    print()"
   ]
  },
  {
   "cell_type": "code",
   "execution_count": null,
   "id": "8a5298c6",
   "metadata": {},
   "outputs": [
    {
     "name": "stdout",
     "output_type": "stream",
     "text": [
      "* * * * * * * * * \n",
      "  *           * \n",
      "    *       * \n",
      "      *   * \n",
      "        * \n"
     ]
    }
   ],
   "source": [
    "# Hollow Inverted Pyramid Pattern\n",
    "\n",
    "n = int(input('n: '))\n",
    "for i in range(n,0,-1):\n",
    "    for j in range(n-i):\n",
    "        print(' ', end = ' ')\n",
    "    for k in range(1,2*i):\n",
    "        if k == 1 or k == 2*i-1 or i == n:\n",
    "            print('*', end = ' ')\n",
    "        else:\n",
    "            print(' ', end = ' ')\n",
    "    print()"
   ]
  },
  {
   "cell_type": "code",
   "execution_count": 64,
   "id": "b2eb18cc",
   "metadata": {},
   "outputs": [
    {
     "name": "stdout",
     "output_type": "stream",
     "text": [
      "                  * \n",
      "                *   * \n",
      "              *       * \n",
      "            *           * \n",
      "          *               * \n",
      "        *                   * \n",
      "      *                       * \n",
      "    *                           * \n",
      "  *                               * \n",
      "*                                   * \n",
      "  *                               * \n",
      "    *                           * \n",
      "      *                       * \n",
      "        *                   * \n",
      "          *               * \n",
      "            *           * \n",
      "              *       * \n",
      "                *   * \n",
      "                  * \n"
     ]
    }
   ],
   "source": [
    "# Hollow Diamond Pattern\n",
    "\n",
    "n = int(input('n: '))\n",
    "for i in range(1, n+1):\n",
    "    for j in range(n-i):\n",
    "        print(' ', end = ' ')\n",
    "    for k in range(1,2*i):\n",
    "        if k == 1 or k == 2*i-1:\n",
    "            print('*', end = ' ')\n",
    "        else:\n",
    "            print(' ', end = ' ')\n",
    "    print()\n",
    "\n",
    "for i in range(n-1,0,-1):\n",
    "    for j in range(n-i):\n",
    "        print(' ', end = ' ')\n",
    "    for k in range(1,2*i):\n",
    "        if k == 1 or k == 2*i-1:\n",
    "            print('*', end = ' ')\n",
    "        else:\n",
    "            print(' ', end = ' ')\n",
    "    print()"
   ]
  },
  {
   "cell_type": "code",
   "execution_count": 69,
   "id": "c2936c48",
   "metadata": {},
   "outputs": [
    {
     "name": "stdout",
     "output_type": "stream",
     "text": [
      "1 \n",
      "1 2 \n",
      "1 2 3 \n",
      "1 2 3 4 \n",
      "1 2 3 4 5 \n"
     ]
    }
   ],
   "source": [
    "# Number Right-Angled Triangle Pattern in Python\n",
    "\n",
    "n = int(input('n: '))\n",
    "for i in range(1,n+1):\n",
    "    for j in range(1,i+1):\n",
    "        print(j, end=' ')\n",
    "    print()"
   ]
  },
  {
   "cell_type": "code",
   "execution_count": null,
   "id": "364d2df8",
   "metadata": {},
   "outputs": [
    {
     "name": "stdout",
     "output_type": "stream",
     "text": [
      "1 2 3 4 5 \n",
      "1 2 3 4 \n",
      "1 2 3 \n",
      "1 2 \n",
      "1 \n"
     ]
    }
   ],
   "source": [
    "# Inverted Number Right-Angled Triangle Pattern in Python\n",
    "\n",
    "n = int(input('n: '))\n",
    "for i in range(n,0,-1):\n",
    "    for j in range(1,i+1):\n",
    "        print(j, end=' ')\n",
    "    print()"
   ]
  },
  {
   "cell_type": "code",
   "execution_count": 82,
   "id": "028130cc",
   "metadata": {},
   "outputs": [
    {
     "name": "stdout",
     "output_type": "stream",
     "text": [
      "        1 \n",
      "      1 2 1 \n",
      "    1 2 3 2 1 \n",
      "  1 2 3 4 3 2 1 \n",
      "1 2 3 4 5 4 3 2 1 \n"
     ]
    }
   ],
   "source": [
    "\n",
    "# Number Pyramid Pattern in Python\n",
    "\n",
    "n = int(input('n :'))\n",
    "\n",
    "for i in range(1,n+1):\n",
    "    for j in range(n-i):\n",
    "        print(' ', end = ' ')\n",
    "    for k in range(1,i+1):\n",
    "        print(k, end=' ')\n",
    "    for l in range(i-1,0,-1):\n",
    "        print(l, end=' ')\n",
    "    print()\n"
   ]
  },
  {
   "cell_type": "code",
   "execution_count": 83,
   "id": "a3a858d0",
   "metadata": {},
   "outputs": [
    {
     "name": "stdout",
     "output_type": "stream",
     "text": [
      "1 2 3 4 5 4 3 2 1 \n",
      "  1 2 3 4 3 2 1 \n",
      "    1 2 3 2 1 \n",
      "      1 2 1 \n",
      "        1 \n"
     ]
    }
   ],
   "source": [
    "\n",
    "# Number Pyramid Pattern in Python\n",
    "\n",
    "n = int(input('n: '))\n",
    "\n",
    "for i in range(n,0,-1):\n",
    "    for j in range(n-i):\n",
    "        print(' ', end = ' ')\n",
    "    for k in range(1,i+1):\n",
    "        print(k, end=' ')\n",
    "    for l in range(i-1,0,-1):\n",
    "        print(l, end=' ')\n",
    "    print()"
   ]
  },
  {
   "cell_type": "code",
   "execution_count": 93,
   "id": "11f4254c",
   "metadata": {},
   "outputs": [
    {
     "name": "stdout",
     "output_type": "stream",
     "text": [
      "        1 \n",
      "      1 2 1 \n",
      "    1 2 3 2 1 \n",
      "  1 2 3 4 3 2 1 \n",
      "1 2 3 4 5 4 3 2 1 \n",
      "  1 2 3 4 3 2 1 \n",
      "    1 2 3 2 1 \n",
      "      1 2 1 \n",
      "        1 \n"
     ]
    }
   ],
   "source": [
    "\n",
    "n = 5\n",
    "\n",
    "for i in range(1,n+1):\n",
    "    for j in range(n-i):\n",
    "        print(' ', end = ' ')\n",
    "    for k in range(1,i+1):\n",
    "        print(k, end=' ')\n",
    "    for l in range(i-1,0,-1):\n",
    "        print(l, end=' ')\n",
    "    print()\n",
    "\n",
    "for i in range(n-1,0,-1):\n",
    "    for j in range(n-i):\n",
    "        print(' ', end=' ')\n",
    "    for k in range(1,i+1):\n",
    "        print(k, end=' ')\n",
    "    for l in range(i-1,0,-1):\n",
    "        print(l, end=' ')\n",
    "    print()"
   ]
  },
  {
   "cell_type": "code",
   "execution_count": 97,
   "id": "0876d929",
   "metadata": {},
   "outputs": [
    {
     "name": "stdout",
     "output_type": "stream",
     "text": [
      "A \n",
      "A B \n",
      "A B C \n",
      "A B C D \n",
      "A B C D E \n"
     ]
    }
   ],
   "source": [
    "\n",
    "# Alphabet Right-Angled Triangle Pattern in Python\n",
    "\n",
    "n = int(input('n :'))\n",
    "\n",
    "for i in range(1,n+1):\n",
    "    for j in range(1,i+1):\n",
    "        char_value = 64+j\n",
    "        print(chr(char_value), end = ' ')\n",
    "    print()"
   ]
  },
  {
   "cell_type": "code",
   "execution_count": null,
   "id": "adf81fc3",
   "metadata": {},
   "outputs": [
    {
     "name": "stdout",
     "output_type": "stream",
     "text": [
      "A B C D E \n",
      "A B C D \n",
      "A B C \n",
      "A B \n",
      "A \n"
     ]
    }
   ],
   "source": [
    "# Inverted Alphabet Right-Angled Triangle Pattern in Python\n",
    "\n",
    "n = int(input('n :'))\n",
    "\n",
    "for i in range(n,0,-1):\n",
    "    for j in range(1,i+1):\n",
    "        char_value = 64+j\n",
    "        print(chr(char_value), end = ' ')\n",
    "    print()"
   ]
  },
  {
   "cell_type": "code",
   "execution_count": null,
   "id": "53f63082",
   "metadata": {},
   "outputs": [
    {
     "name": "stdout",
     "output_type": "stream",
     "text": [
      "        A \n",
      "      A B A \n",
      "    A B C B A \n",
      "  A B C D C B A \n",
      "A B C D E D C B A \n"
     ]
    }
   ],
   "source": [
    "# Alphabet Pyramid Pattern in Python\n",
    "\n",
    "n = int(input('n: '))\n",
    "\n",
    "for i in range(1,n+1):\n",
    "    for j in range(n-i):\n",
    "        print(' ', end = ' ')\n",
    "    for k in range(1,i+1):\n",
    "        print(chr(64+k), end=\" \")\n",
    "    for l in range(i-1,0,-1):\n",
    "        print(chr(64+l), end=' ')\n",
    "    print()"
   ]
  },
  {
   "cell_type": "code",
   "execution_count": null,
   "id": "e54f03e7",
   "metadata": {},
   "outputs": [
    {
     "name": "stdout",
     "output_type": "stream",
     "text": [
      "A B C D E D C B A \n",
      "  A B C D C B A \n",
      "    A B C B A \n",
      "      A B A \n",
      "        A \n"
     ]
    }
   ],
   "source": [
    "\n",
    "# Inverted Alphabet Pyramid Pattern in Python\n",
    "\n",
    "n = int(input('n: '))\n",
    "\n",
    "for i in range(n,0,-1):\n",
    "    for j in range(n-i):\n",
    "        print(' ', end = ' ')\n",
    "    for k in range(1,i+1):\n",
    "        print(chr(64+k), end=\" \")\n",
    "    for l in range(i-1,0,-1):\n",
    "        print(chr(64+l), end=' ')\n",
    "    print()"
   ]
  },
  {
   "cell_type": "code",
   "execution_count": null,
   "id": "8e69f131",
   "metadata": {},
   "outputs": [
    {
     "name": "stdout",
     "output_type": "stream",
     "text": [
      "        A \n",
      "      A B A \n",
      "    A B C B A \n",
      "  A B C D C B A \n",
      "A B C D E D C B A \n",
      "  A B C D C B A \n",
      "    A B C B A \n",
      "      A B A \n",
      "        A \n"
     ]
    }
   ],
   "source": [
    "\n",
    "# Alphabet Diamond Pattern in Python\n",
    "\n",
    "n = int(input('n: '))\n",
    "\n",
    "for i in range(1,n+1):\n",
    "    for j in range(n-i):\n",
    "        print(' ', end = ' ')\n",
    "    for k in range(1,i+1):\n",
    "        print(chr(64+k), end=\" \")\n",
    "    for l in range(i-1,0,-1):\n",
    "        print(chr(64+l), end=' ')\n",
    "    print()\n",
    "\n",
    "for i in range(n-1,0,-1):\n",
    "    for j in range(n-i):\n",
    "        print(' ', end = ' ')\n",
    "    for k in range(1,i+1):\n",
    "        print(chr(64+k), end=\" \")\n",
    "    for l in range(i-1,0,-1):\n",
    "        print(chr(64+l), end=' ')\n",
    "    print()"
   ]
  },
  {
   "cell_type": "code",
   "execution_count": 106,
   "id": "b43f1085",
   "metadata": {},
   "outputs": [
    {
     "name": "stdout",
     "output_type": "stream",
     "text": [
      "1 \n",
      "2 3 \n",
      "4 5 6 \n",
      "7 8 9 10 \n",
      "11 12 13 14 15 \n"
     ]
    }
   ],
   "source": [
    "\n",
    "# Floyd's Triangle Pattern in Python\n",
    "\n",
    "n = int(input('n: '))\n",
    "\n",
    "count = 0\n",
    "for i in range(1, n+1):\n",
    "    for j in range(i):\n",
    "        count+=1\n",
    "        print(count, end=\" \")\n",
    "    print()"
   ]
  },
  {
   "cell_type": "code",
   "execution_count": null,
   "id": "6a9790b8",
   "metadata": {},
   "outputs": [
    {
     "name": "stdout",
     "output_type": "stream",
     "text": [
      "          1   \n",
      "        1   1   \n",
      "      1   2   1   \n",
      "    1   3   3   1   \n",
      "  1   4   6   4   1   \n"
     ]
    }
   ],
   "source": [
    "\n",
    "# Pascal's Triangle Pattern in Python\n",
    "n = 5\n",
    "\n",
    "for i in range(0, n):\n",
    "    count = 1\n",
    "    for j in range(n-i):\n",
    "        print(' ', end=' ')\n",
    "    for k in range(i+1):\n",
    "        print(count, end='   ')\n",
    "        count = count * (i-k) // (k+1)\n",
    "    \n",
    "    print()"
   ]
  },
  {
   "cell_type": "code",
   "execution_count": 25,
   "id": "092b4fd6",
   "metadata": {},
   "outputs": [
    {
     "name": "stdout",
     "output_type": "stream",
     "text": [
      "*                 * \n",
      "* *             * * \n",
      "* * *         * * * \n",
      "* * * *     * * * * \n",
      "* * * * * * * * * * \n",
      "* * * * * * * * * * \n",
      "* * * *     * * * * \n",
      "* * *         * * * \n",
      "* *             * * \n",
      "*                 * \n"
     ]
    }
   ],
   "source": [
    "# Butterfly Pattern in Python\n",
    "n = 5\n",
    "for i in range(1,n+1):\n",
    "    for j in range(i):\n",
    "        print('*', end=' ')\n",
    "    for k in range(2*(n-i)):\n",
    "        print(' ', end=' ')\n",
    "    for l in range(1,i+1):\n",
    "        print('*', end=' ')\n",
    "    print()\n",
    "for i in range(n,0,-1):\n",
    "    for j in range(i):\n",
    "        print('*', end=' ')\n",
    "    for k in range(2*(n-i)):\n",
    "        print(' ', end=' ')\n",
    "    for l in range(1,i+1):\n",
    "        print('*', end=' ')\n",
    "    print()\n"
   ]
  },
  {
   "cell_type": "code",
   "execution_count": null,
   "id": "27336d8b",
   "metadata": {},
   "outputs": [
    {
     "name": "stdout",
     "output_type": "stream",
     "text": [
      "*                 * \n",
      "* *             * * \n",
      "*   *         *   * \n",
      "*     *     *     * \n",
      "*       * *       * \n",
      "*       * *       * \n",
      "*     *     *     * \n",
      "*   *         *   * \n",
      "* *             * * \n",
      "*                 * \n"
     ]
    }
   ],
   "source": [
    "\n",
    "# Hollow Butterfly Pattern in Python\n",
    "\n",
    "n = 5\n",
    "\n",
    "for i in range(1,n+1):\n",
    "    for j in range(1,i+1):\n",
    "        if j == 1 or j == i:\n",
    "            print('*', end=' ')\n",
    "        else:\n",
    "            print(' ', end=' ')\n",
    "    for k in range(2*(n-i)):\n",
    "        print(' ', end=' ')\n",
    "    for l in range(1,i+1):\n",
    "        if l == 1 or l == i:\n",
    "            print('*', end=' ')\n",
    "        else:\n",
    "            print(' ', end=' ')\n",
    "    print()\n",
    "\n",
    "\n",
    "for i in range(n,0,-1):\n",
    "    for j in range(1,i+1):\n",
    "        if j == 1 or j == i:\n",
    "            print('*', end=' ')\n",
    "        else:\n",
    "            print(' ', end=' ')\n",
    "    for k in range(2*(n-i)):\n",
    "        print(' ', end=' ')\n",
    "    for l in range(1,i+1):\n",
    "        if l == 1 or l == i:\n",
    "            print('*', end=' ')\n",
    "        else:\n",
    "            print(' ', end=' ')\n",
    "    print()\n"
   ]
  },
  {
   "cell_type": "code",
   "execution_count": null,
   "id": "254b9457",
   "metadata": {},
   "outputs": [
    {
     "name": "stdout",
     "output_type": "stream",
     "text": [
      "1 2 3 4 \n",
      "1 2 3 4 \n",
      "1 2 3 4 \n",
      "1 2 3 4 \n"
     ]
    }
   ],
   "source": [
    "# Square Number Pattern in Python\n",
    "\n",
    "n = 4\n",
    "\n",
    "for i in range(1,n+1):\n",
    "    for j in range(1,n+1):\n",
    "        print(j, end = ' ')\n",
    "    print()"
   ]
  },
  {
   "cell_type": "code",
   "execution_count": null,
   "id": "245a2e86",
   "metadata": {},
   "outputs": [
    {
     "name": "stdout",
     "output_type": "stream",
     "text": [
      "1 2 3 4 5 \n",
      "1       5 \n",
      "1       5 \n",
      "1       5 \n",
      "1 2 3 4 5 \n"
     ]
    }
   ],
   "source": [
    "\n",
    "# Hollow Square Number Pattern in Python\n",
    "\n",
    "n = 5\n",
    "\n",
    "for i in range(1,n+1):\n",
    "    for j in range(1,n+1):\n",
    "        if i == 1 or i == n or j == 1 or j == n:\n",
    "            print(j, end = ' ')\n",
    "        else:\n",
    "            print(' ', end = ' ')\n",
    "    print()"
   ]
  },
  {
   "cell_type": "code",
   "execution_count": null,
   "id": "e4a5a2db",
   "metadata": {},
   "outputs": [
    {
     "name": "stdout",
     "output_type": "stream",
     "text": [
      "1 0 1 0 1 0 \n",
      "0 1 0 1 0 1 \n",
      "1 0 1 0 1 0 \n",
      "0 1 0 1 0 1 \n",
      "1 0 1 0 1 0 \n",
      "0 1 0 1 0 1 \n"
     ]
    }
   ],
   "source": [
    "# Zig-Zag Number Pattern in Python\n",
    "\n",
    "n = 6\n",
    "\n",
    "for i in range(1,n+1):\n",
    "    for j in range(1,n+1):\n",
    "        if (i+j)%2 == 0:\n",
    "            print(1, end = ' ')\n",
    "        else:\n",
    "            print(0, end = ' ')\n",
    "      \n",
    "    print()\n"
   ]
  },
  {
   "cell_type": "code",
   "execution_count": 65,
   "id": "5d9931ea",
   "metadata": {},
   "outputs": [
    {
     "name": "stdout",
     "output_type": "stream",
     "text": [
      "*       * \n",
      "  *   *   \n",
      "    *     \n",
      "  *   *   \n",
      "*       * \n"
     ]
    }
   ],
   "source": [
    "\n",
    "# Cross Pattern in Python\n",
    "\n",
    "n = 5\n",
    "\n",
    "for i in range(1, n+1):\n",
    "    for j in range(1,n+1):\n",
    "        if i == j or i+j == n+1:\n",
    "            print('*', end=' ')\n",
    "        else:\n",
    "            print(' ', end=' ')\n",
    "    print()"
   ]
  },
  {
   "cell_type": "code",
   "execution_count": 77,
   "id": "f568701e",
   "metadata": {},
   "outputs": [
    {
     "name": "stdout",
     "output_type": "stream",
     "text": [
      "    *     \n",
      "    *     \n",
      "* * * * * \n",
      "    *     \n",
      "    *     \n"
     ]
    }
   ],
   "source": [
    "\n",
    "# Plus Pattern in Python\n",
    "n = 5\n",
    "\n",
    "for i in range(1, n + 1):  \n",
    "    for j in range(1, n  + 1): \n",
    "        if i == n  // 2 + 1 or j == n  // 2 + 1:  \n",
    "            print(\"*\", end=\" \")\n",
    "        else:\n",
    "            print(\" \", end=\" \")\n",
    "    print()"
   ]
  },
  {
   "cell_type": "code",
   "execution_count": null,
   "id": "de36e946",
   "metadata": {},
   "outputs": [
    {
     "data": {
      "text/plain": [
       "3"
      ]
     },
     "execution_count": 68,
     "metadata": {},
     "output_type": "execute_result"
    }
   ],
   "source": []
  },
  {
   "cell_type": "code",
   "execution_count": null,
   "id": "db3cb099",
   "metadata": {},
   "outputs": [],
   "source": []
  }
 ],
 "metadata": {
  "kernelspec": {
   "display_name": "base",
   "language": "python",
   "name": "python3"
  },
  "language_info": {
   "codemirror_mode": {
    "name": "ipython",
    "version": 3
   },
   "file_extension": ".py",
   "mimetype": "text/x-python",
   "name": "python",
   "nbconvert_exporter": "python",
   "pygments_lexer": "ipython3",
   "version": "3.12.4"
  }
 },
 "nbformat": 4,
 "nbformat_minor": 5
}
